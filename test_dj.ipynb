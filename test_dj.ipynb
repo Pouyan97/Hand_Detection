{
 "cells": [
  {
   "cell_type": "code",
   "execution_count": 1,
   "metadata": {},
   "outputs": [
    {
     "name": "stderr",
     "output_type": "stream",
     "text": [
      "[2024-01-02 16:32:25,017][INFO]: Connecting pfirouzabadi@127.0.0.1:3306\n",
      "[2024-01-02 16:32:25,054][INFO]: Connected pfirouzabadi@127.0.0.1:3306\n"
     ]
    }
   ],
   "source": [
    "%load_ext autoreload\n",
    "%autoreload 2\n",
    "import matplotlib.pyplot as plt\n",
    "import os\n",
    "os.environ[\"CUDA_DEVICE_ORDER\"] = \"PCI_BUS_ID\"\n",
    "os.environ['CUDA_VISIBLE_DEVICES'] ='4'\n",
    "os.environ['PYOPENGL_PLATFORM'] = 'osmesa'\n",
    "import torch\n",
    "import logging\n",
    "import time\n",
    "from argparse import ArgumentParser\n",
    "\n",
    "import cv2\n",
    "import json_tricks as json\n",
    "import numpy as np\n",
    "\n",
    "\n",
    "from pose_pipeline.utils.jupyter import play,play_grid\n",
    "from pose_pipeline.pipeline import BlurredVideo,LiftingPerson,LiftingMethod,TopDownPerson,Video\n",
    "from multi_camera.datajoint.multi_camera_dj import PersonKeypointReconstruction,SingleCameraVideo, CalibratedRecording, MultiCameraRecording,PersonKeypointReconstructionMethod\n",
    "from multi_camera.datajoint.sessions import Recording\n",
    "from hand_dj import HandPoseReconstructionMethodLookup,HandPoseReconstructionMethod, HandPoseReconstruction,HandPoseEstimationMethodLookup\n",
    "from hand_dj import HandBbox,HandBboxMethod, HandPoseEstimation,HandPoseEstimationMethod,HandPoseEstimationVideo"
   ]
  },
  {
   "cell_type": "code",
   "execution_count": 8,
   "metadata": {},
   "outputs": [],
   "source": [
    "vid_keys = (HandPoseEstimation & 'filename LIKE \"m002%\"' & 'detection_method=1').fetch('KEY')"
   ]
  },
  {
   "cell_type": "code",
   "execution_count": 55,
   "metadata": {},
   "outputs": [
    {
     "data": {
      "text/plain": [
       "12"
      ]
     },
     "execution_count": 55,
     "metadata": {},
     "output_type": "execute_result"
    }
   ],
   "source": [
    "participant_idx = 0\n",
    "participant_videos = (Recording & 'participant_id=\"m002\"').fetch('KEY')[participant_idx]\n",
    "vid_keys= (SingleCameraVideo & participant_videos).fetch('KEY')\n",
    "len(vid_keys)"
   ]
  },
  {
   "cell_type": "code",
   "execution_count": 56,
   "metadata": {},
   "outputs": [
    {
     "data": {
      "text/plain": [
       "12"
      ]
     },
     "execution_count": 56,
     "metadata": {},
     "output_type": "execute_result"
    }
   ],
   "source": [
    "for k in vid_keys:\n",
    "    k['detection_method'] = 1 \n",
    "len(vid_keys)"
   ]
  },
  {
   "cell_type": "code",
   "execution_count": 36,
   "metadata": {},
   "outputs": [
    {
     "data": {
      "text/plain": [
       "72"
      ]
     },
     "execution_count": 36,
     "metadata": {},
     "output_type": "execute_result"
    }
   ],
   "source": [
    "# HandBboxMethod.insert(vid_keys,skip_duplicates=True)\n",
    "# HandBbox.populate()\n",
    "len((HandBbox & \"detection_method=1\").fetch('KEY'))"
   ]
  },
  {
   "cell_type": "code",
   "execution_count": 57,
   "metadata": {},
   "outputs": [
    {
     "data": {
      "text/plain": [
       "12"
      ]
     },
     "execution_count": 57,
     "metadata": {},
     "output_type": "execute_result"
    }
   ],
   "source": [
    "for k in vid_keys:\n",
    "    k['estimation_method'] = 0\n",
    "len(vid_keys)"
   ]
  },
  {
   "cell_type": "code",
   "execution_count": 89,
   "metadata": {},
   "outputs": [
    {
     "data": {
      "text/plain": [
       "0.09467043"
      ]
     },
     "execution_count": 89,
     "metadata": {},
     "output_type": "execute_result"
    }
   ],
   "source": [
    "# HandPoseEstimationMethod.insert(vid_keys,skip_duplicates=True)\n",
    "# HandPoseEstimation.populate()\n",
    "# len((HandPoseEstimation & \"detection_method=1\").fetch('KEY'))\n",
    "kp2d = (HandPoseEstimation&vid_keys[0]).fetch(\"keypoints_2d\")\n",
    "kp2d_r = np.asarray(kp2d[0])[:,0,:,:]\n",
    "np.min(kp2d_r[:,:,-1])"
   ]
  },
  {
   "cell_type": "markdown",
   "metadata": {},
   "source": [
    "# Visualization"
   ]
  },
  {
   "cell_type": "code",
   "execution_count": 24,
   "metadata": {},
   "outputs": [],
   "source": [
    "def render_video(video, output_file, keypoints):\n",
    "    cap = cv2.VideoCapture(video)\n",
    "    total_frames = int(cap.get(cv2.CAP_PROP_FRAME_COUNT))\n",
    "    h = int(cap.get(cv2.CAP_PROP_FRAME_HEIGHT))\n",
    "    w = int(cap.get(cv2.CAP_PROP_FRAME_WIDTH))\n",
    "    fps = cap.get(cv2.CAP_PROP_FPS)\n",
    "    output_size = (int(w),int(h))\n",
    "\n",
    "    fourcc = cv2.VideoWriter_fourcc(*\"MP4V\")\n",
    "    out = cv2.VideoWriter(output_file,fourcc, fps,output_size)\n",
    "\n",
    "    for frame_idx in tqdm(range(total_frames)):\n",
    "        success, frame = cap.read()\n",
    "\n",
    "        if not success:\n",
    "            break\n",
    "        keypoints = keypoints[frame_idx,:,:].copy()\n",
    "        frame = draw_keypoints(frame,keypoints)\n",
    "        out.write(frame)\n",
    "\n",
    "    out.release()\n",
    "    cap.release()"
   ]
  },
  {
   "cell_type": "code",
   "execution_count": 91,
   "metadata": {},
   "outputs": [
    {
     "data": {
      "text/plain": [
       "12"
      ]
     },
     "execution_count": 91,
     "metadata": {},
     "output_type": "execute_result"
    }
   ],
   "source": [
    "\n",
    "num_cameras = len(vid_keys)\n",
    "num_cameras"
   ]
  },
  {
   "cell_type": "code",
   "execution_count": 140,
   "metadata": {},
   "outputs": [],
   "source": [
    "%matplotlib inline\n",
    "def plot_all_cameras(key, frame_idx = 0,n_cols=3):\n",
    "    # using the variable axs for multiple Axes\n",
    "    from pose_pipeline.utils.visualization import draw_keypoints\n",
    "    \n",
    "    \n",
    "    vid_keys = (SingleCameraVideo & key).fetch('KEY')\n",
    "    num_cameras = len(vid_keys)\n",
    "    \n",
    "    \n",
    "    fig, axs = plt.subplots(num_cameras//n_cols,n_cols,figsize=(15,15))\n",
    "    for vid_idx in range(num_cameras):\n",
    "        vid_file = ( Video & vid_keys[vid_idx]).fetch('video')[0]\n",
    "        # output_file = f'{output_root}m002_camera{vid_idx}.mp4'\n",
    "        \n",
    "        cap = cv2.VideoCapture(vid_file)\n",
    "        frame_idx = 0\n",
    "        # video_writer = None\n",
    "        # pred_instances_list = []\n",
    "        keypoints_2d = (HandPoseEstimation & vid_keys[vid_idx]).fetch1(\"keypoints_2d\")\n",
    "        ###############################CHOOSE A FRAME#########################\n",
    "        # while frame_idx < 1:\n",
    "        cap.set(cv2.CAP_PROP_POS_FRAMES, frame_idx)\n",
    "        success, frame = cap.read()\n",
    "        frame_idx += 1\n",
    "\n",
    "        if not success:\n",
    "            break\n",
    "        # radius = 10\n",
    "        # threshold = 0.2\n",
    "        # color = (255,255,255)\n",
    "        # border_color = (0,0,0)\n",
    "        for k in keypoints_2d[frame_idx]:\n",
    "            keypoints = k[:,:].copy()\n",
    "            frame = draw_keypoints(frame,keypoints)\n",
    "\n",
    "        frame = cv2.cvtColor(frame, cv2.COLOR_BGR2RGB)\n",
    "        row = vid_idx // n_cols\n",
    "        col = vid_idx % n_cols\n",
    "        axs[row,col].imshow(frame)\n",
    "        os.remove(vid_file)"
   ]
  },
  {
   "cell_type": "code",
   "execution_count": 90,
   "metadata": {},
   "outputs": [
    {
     "name": "stdout",
     "output_type": "stream",
     "text": [
      "CAMERAS 12\n",
      "Robust Triangulation $\\\\gamma=0.3$\n",
      "CAMERAS 12\n",
      "Robust Triangulation $\\\\gamma=0.3$\n",
      "CAMERAS 12\n",
      "Robust Triangulation $\\\\gamma=0.3$\n",
      "CAMERAS 12\n",
      "Robust Triangulation $\\\\gamma=0.3$\n"
     ]
    }
   ],
   "source": [
    "# key = ( CalibratedRecording &  ((Recording & 'participant_id=\"m002\"').fetch('KEY'))).fetch('KEY')\n",
    "# for k in key:\n",
    "#     k['reconstruction_method']=3\n",
    "#     k['estimation_method']=0\n",
    "#     k['detection_method']=1\n",
    "\n",
    "# HandPoseReconstructionMethod.insert(key,skip_duplicates=True)\n",
    "HandPoseReconstruction.populate(key)\n"
   ]
  },
  {
   "cell_type": "code",
   "execution_count": 47,
   "metadata": {},
   "outputs": [
    {
     "name": "stderr",
     "output_type": "stream",
     "text": [
      "100%|██████████| 925/925 [00:16<00:00, 57.39it/s]\n",
      "100%|██████████| 925/925 [00:14<00:00, 61.68it/s]\n",
      "100%|██████████| 925/925 [00:17<00:00, 51.60it/s]\n",
      "100%|██████████| 925/925 [00:15<00:00, 60.61it/s]\n",
      "100%|██████████| 925/925 [00:19<00:00, 46.71it/s]\n",
      "100%|██████████| 925/925 [00:15<00:00, 61.63it/s]\n",
      "100%|██████████| 925/925 [00:14<00:00, 62.38it/s]\n",
      "100%|██████████| 925/925 [00:14<00:00, 62.20it/s]\n",
      "100%|██████████| 925/925 [00:15<00:00, 59.61it/s]\n",
      "100%|██████████| 925/925 [00:14<00:00, 63.66it/s]\n",
      "100%|██████████| 925/925 [00:14<00:00, 63.79it/s]\n"
     ]
    }
   ],
   "source": [
    "HandPoseEstimationVideo.populate()"
   ]
  },
  {
   "cell_type": "markdown",
   "metadata": {},
   "source": [
    "# Export to TRC files\n"
   ]
  },
  {
   "cell_type": "code",
   "execution_count": 2,
   "metadata": {},
   "outputs": [
    {
     "data": {
      "text/html": [
       "\n",
       "    \n",
       "    <style type=\"text/css\">\n",
       "        .Table{\n",
       "            border-collapse:collapse;\n",
       "        }\n",
       "        .Table th{\n",
       "            background: #A0A0A0; color: #ffffff; padding:4px; border:#f0e0e0 1px solid;\n",
       "            font-weight: normal; font-family: monospace; font-size: 100%;\n",
       "        }\n",
       "        .Table td{\n",
       "            padding:4px; border:#f0e0e0 1px solid; font-size:100%;\n",
       "        }\n",
       "        .Table tr:nth-child(odd){\n",
       "            background: #ffffff;\n",
       "            color: #000000;\n",
       "        }\n",
       "        .Table tr:nth-child(even){\n",
       "            background: #f3f1ff;\n",
       "            color: #000000;\n",
       "        }\n",
       "        /* Tooltip container */\n",
       "        .djtooltip {\n",
       "        }\n",
       "        /* Tooltip text */\n",
       "        .djtooltip .djtooltiptext {\n",
       "            visibility: hidden;\n",
       "            width: 120px;\n",
       "            background-color: black;\n",
       "            color: #fff;\n",
       "            text-align: center;\n",
       "            padding: 5px 0;\n",
       "            border-radius: 6px;\n",
       "            /* Position the tooltip text - see examples below! */\n",
       "            position: absolute;\n",
       "            z-index: 1;\n",
       "        }\n",
       "        #primary {\n",
       "            font-weight: bold;\n",
       "            color: black;\n",
       "        }\n",
       "        #nonprimary {\n",
       "            font-weight: normal;\n",
       "            color: white;\n",
       "        }\n",
       "\n",
       "        /* Show the tooltip text when you mouse over the tooltip container */\n",
       "        .djtooltip:hover .djtooltiptext {\n",
       "            visibility: visible;\n",
       "        }\n",
       "    </style>\n",
       "    \n",
       "    <b></b>\n",
       "        <div style=\"max-height:1000px;max-width:1500px;overflow:auto;\">\n",
       "        <table border=\"1\" class=\"Table\">\n",
       "            <thead> <tr style=\"text-align: right;\"> <th> <div class=\"djtooltip\">\n",
       "                            <p id=\"primary\">recording_timestamps</p>\n",
       "                            <span class=\"djtooltiptext\"></span>\n",
       "                        </div></th><th><div class=\"djtooltip\">\n",
       "                            <p id=\"primary\">camera_config_hash</p>\n",
       "                            <span class=\"djtooltiptext\"></span>\n",
       "                        </div></th><th><div class=\"djtooltip\">\n",
       "                            <p id=\"primary\">cal_timestamp</p>\n",
       "                            <span class=\"djtooltiptext\"></span>\n",
       "                        </div></th><th><div class=\"djtooltip\">\n",
       "                            <p id=\"primary\">reconstruction_method</p>\n",
       "                            <span class=\"djtooltiptext\"></span>\n",
       "                        </div></th><th><div class=\"djtooltip\">\n",
       "                            <p id=\"primary\">estimation_method</p>\n",
       "                            <span class=\"djtooltiptext\"></span>\n",
       "                        </div></th><th><div class=\"djtooltip\">\n",
       "                            <p id=\"primary\">detection_method</p>\n",
       "                            <span class=\"djtooltiptext\"></span>\n",
       "                        </div></th><th><div class=\"djtooltip\">\n",
       "                            <p id=\"nonprimary\">keypoints3d</p>\n",
       "                            <span class=\"djtooltiptext\"></span>\n",
       "                        </div></th><th><div class=\"djtooltip\">\n",
       "                            <p id=\"nonprimary\">camera_weights</p>\n",
       "                            <span class=\"djtooltiptext\"></span>\n",
       "                        </div></th><th><div class=\"djtooltip\">\n",
       "                            <p id=\"nonprimary\">reprojection_loss</p>\n",
       "                            <span class=\"djtooltiptext\"></span>\n",
       "                        </div> </th> </tr> </thead>\n",
       "            <tbody> <tr> <td>2023-09-26 11:07:17</td>\n",
       "<td>0cbbed837e</td>\n",
       "<td>2023-09-26 11:11:27</td>\n",
       "<td>0</td>\n",
       "<td>0</td>\n",
       "<td>1</td>\n",
       "<td>=BLOB=</td>\n",
       "<td>=BLOB=</td>\n",
       "<td>12.418</td></tr><tr><td>2023-09-26 11:07:17</td>\n",
       "<td>0cbbed837e</td>\n",
       "<td>2023-09-26 11:11:27</td>\n",
       "<td>3</td>\n",
       "<td>0</td>\n",
       "<td>1</td>\n",
       "<td>=BLOB=</td>\n",
       "<td>=BLOB=</td>\n",
       "<td>8.55241</td></tr><tr><td>2023-09-26 11:08:13</td>\n",
       "<td>0cbbed837e</td>\n",
       "<td>2023-09-26 11:11:27</td>\n",
       "<td>0</td>\n",
       "<td>0</td>\n",
       "<td>1</td>\n",
       "<td>=BLOB=</td>\n",
       "<td>=BLOB=</td>\n",
       "<td>8.80644</td></tr><tr><td>2023-09-26 11:08:50</td>\n",
       "<td>0cbbed837e</td>\n",
       "<td>2023-09-26 11:11:27</td>\n",
       "<td>0</td>\n",
       "<td>0</td>\n",
       "<td>1</td>\n",
       "<td>=BLOB=</td>\n",
       "<td>=BLOB=</td>\n",
       "<td>2388.21</td></tr><tr><td>2023-11-15 14:45:52</td>\n",
       "<td>6222d5655b</td>\n",
       "<td>2023-11-15 14:49:30</td>\n",
       "<td>0</td>\n",
       "<td>0</td>\n",
       "<td>1</td>\n",
       "<td>=BLOB=</td>\n",
       "<td>=BLOB=</td>\n",
       "<td>8.32496</td></tr><tr><td>2023-11-15 14:45:52</td>\n",
       "<td>6222d5655b</td>\n",
       "<td>2023-11-15 14:49:30</td>\n",
       "<td>3</td>\n",
       "<td>0</td>\n",
       "<td>1</td>\n",
       "<td>=BLOB=</td>\n",
       "<td>=BLOB=</td>\n",
       "<td>3.61205</td></tr><tr><td>2023-11-15 14:46:31</td>\n",
       "<td>6222d5655b</td>\n",
       "<td>2023-11-15 14:49:30</td>\n",
       "<td>0</td>\n",
       "<td>0</td>\n",
       "<td>1</td>\n",
       "<td>=BLOB=</td>\n",
       "<td>=BLOB=</td>\n",
       "<td>8.52439</td></tr><tr><td>2023-11-15 14:46:31</td>\n",
       "<td>6222d5655b</td>\n",
       "<td>2023-11-15 14:49:30</td>\n",
       "<td>3</td>\n",
       "<td>0</td>\n",
       "<td>1</td>\n",
       "<td>=BLOB=</td>\n",
       "<td>=BLOB=</td>\n",
       "<td>3.47692</td></tr><tr><td>2023-11-15 14:47:09</td>\n",
       "<td>6222d5655b</td>\n",
       "<td>2023-11-15 14:49:30</td>\n",
       "<td>0</td>\n",
       "<td>0</td>\n",
       "<td>1</td>\n",
       "<td>=BLOB=</td>\n",
       "<td>=BLOB=</td>\n",
       "<td>8.90134</td></tr><tr><td>2023-11-15 14:47:09</td>\n",
       "<td>6222d5655b</td>\n",
       "<td>2023-11-15 14:49:30</td>\n",
       "<td>3</td>\n",
       "<td>0</td>\n",
       "<td>1</td>\n",
       "<td>=BLOB=</td>\n",
       "<td>=BLOB=</td>\n",
       "<td>2.08844</td></tr><tr><td>2023-11-15 14:48:25</td>\n",
       "<td>6222d5655b</td>\n",
       "<td>2023-11-15 14:49:30</td>\n",
       "<td>0</td>\n",
       "<td>0</td>\n",
       "<td>1</td>\n",
       "<td>=BLOB=</td>\n",
       "<td>=BLOB=</td>\n",
       "<td>16.0174</td></tr><tr><td>2023-11-15 14:48:25</td>\n",
       "<td>6222d5655b</td>\n",
       "<td>2023-11-15 14:49:30</td>\n",
       "<td>3</td>\n",
       "<td>0</td>\n",
       "<td>1</td>\n",
       "<td>=BLOB=</td>\n",
       "<td>=BLOB=</td>\n",
       "<td>7.27925</td> </tr> </tbody>\n",
       "        </table>\n",
       "        \n",
       "        <p>Total: 12</p></div>\n",
       "        "
      ],
      "text/plain": [
       "*recording_tim *camera_config *cal_timestamp *reconstructio *estimation_me *detection_met keypoints3 camera_wei reprojection_l\n",
       "+------------+ +------------+ +------------+ +------------+ +------------+ +------------+ +--------+ +--------+ +------------+\n",
       "2023-09-26 11: 0cbbed837e     2023-09-26 11: 0              0              1              =BLOB=     =BLOB=     12.418        \n",
       "2023-09-26 11: 0cbbed837e     2023-09-26 11: 3              0              1              =BLOB=     =BLOB=     8.55241       \n",
       "2023-09-26 11: 0cbbed837e     2023-09-26 11: 0              0              1              =BLOB=     =BLOB=     8.80644       \n",
       "2023-09-26 11: 0cbbed837e     2023-09-26 11: 0              0              1              =BLOB=     =BLOB=     2388.21       \n",
       "2023-11-15 14: 6222d5655b     2023-11-15 14: 0              0              1              =BLOB=     =BLOB=     8.32496       \n",
       "2023-11-15 14: 6222d5655b     2023-11-15 14: 3              0              1              =BLOB=     =BLOB=     3.61205       \n",
       "2023-11-15 14: 6222d5655b     2023-11-15 14: 0              0              1              =BLOB=     =BLOB=     8.52439       \n",
       "2023-11-15 14: 6222d5655b     2023-11-15 14: 3              0              1              =BLOB=     =BLOB=     3.47692       \n",
       "2023-11-15 14: 6222d5655b     2023-11-15 14: 0              0              1              =BLOB=     =BLOB=     8.90134       \n",
       "2023-11-15 14: 6222d5655b     2023-11-15 14: 3              0              1              =BLOB=     =BLOB=     2.08844       \n",
       "2023-11-15 14: 6222d5655b     2023-11-15 14: 0              0              1              =BLOB=     =BLOB=     16.0174       \n",
       "2023-11-15 14: 6222d5655b     2023-11-15 14: 3              0              1              =BLOB=     =BLOB=     7.27925       \n",
       " (Total: 12)"
      ]
     },
     "execution_count": 2,
     "metadata": {},
     "output_type": "execute_result"
    }
   ],
   "source": [
    "HandPoseReconstruction()"
   ]
  },
  {
   "cell_type": "markdown",
   "metadata": {},
   "source": [
    "# Populate and export trc\n"
   ]
  },
  {
   "cell_type": "code",
   "execution_count": 106,
   "metadata": {},
   "outputs": [],
   "source": [
    "participant_idx = 0\n",
    "participant_id=\"m002\"\n",
    "participant_videos = (Recording & f'participant_id=\"m002\"').fetch('KEY')[participant_idx]\n",
    "reconstruction_method = 3\n",
    "\n",
    "key = (CalibratedRecording &  participant_videos).fetch('KEY')\n",
    "for k in key:\n",
    "    k['reconstruction_method']= reconstruction_method\n",
    "    k['estimation_method']=0\n",
    "    k['detection_method']=1\n"
   ]
  },
  {
   "cell_type": "code",
   "execution_count": 94,
   "metadata": {},
   "outputs": [],
   "source": [
    "\n",
    "# HandPoseReconstructionMethod.insert(key,skip_duplicates=True)\n",
    "HandPoseReconstruction.populate(key)\n"
   ]
  },
  {
   "cell_type": "code",
   "execution_count": 100,
   "metadata": {},
   "outputs": [],
   "source": [
    "output_file= f'{participant_id}_{participant_idx}_reconstructed_{reconstruction_method}_w_movi.trc'\n",
    "HandPoseReconstruction.export_trc((HandPoseReconstruction & key ), output_file, z_offset=0,addMovi=True,smooth=True)"
   ]
  },
  {
   "cell_type": "code",
   "execution_count": 108,
   "metadata": {},
   "outputs": [
    {
     "data": {
      "text/plain": [
       "array([3.61205])"
      ]
     },
     "execution_count": 108,
     "metadata": {},
     "output_type": "execute_result"
    }
   ],
   "source": [
    "(HandPoseReconstruction & key ).fetch(\"reprojection_loss\")"
   ]
  },
  {
   "cell_type": "code",
   "execution_count": 111,
   "metadata": {},
   "outputs": [
    {
     "data": {
      "image/png": "[encoded data removed]",
      "text/plain": [
       "<Figure size 500x400 with 3 Axes>"
      ]
     },
     "metadata": {},
     "output_type": "display_data"
    }
   ],
   "source": [
    "HandPoseReconstruction.plot_joint((HandPoseReconstruction & key ),2)"
   ]
  },
  {
   "cell_type": "code",
   "execution_count": 142,
   "metadata": {},
   "outputs": [
    {
     "ename": "UnboundLocalError",
     "evalue": "local variable 'num_cameras' referenced before assignment",
     "output_type": "error",
     "traceback": [
      "\u001b[0;31m---------------------------------------------------------------------------\u001b[0m",
      "\u001b[0;31mUnboundLocalError\u001b[0m                         Traceback (most recent call last)",
      "Cell \u001b[0;32mIn[142], line 1\u001b[0m\n\u001b[0;32m----> 1\u001b[0m \u001b[43mplot_all_cameras\u001b[49m\u001b[43m(\u001b[49m\u001b[43mkey\u001b[49m\u001b[43m,\u001b[49m\u001b[43m \u001b[49m\u001b[43mframe_idx\u001b[49m\u001b[43m \u001b[49m\u001b[38;5;241;43m=\u001b[39;49m\u001b[43m \u001b[49m\u001b[38;5;241;43m0\u001b[39;49m\u001b[43m)\u001b[49m\n",
      "Cell \u001b[0;32mIn[140], line 5\u001b[0m, in \u001b[0;36mplot_all_cameras\u001b[0;34m(key, frame_idx, n_cols)\u001b[0m\n\u001b[1;32m      2\u001b[0m \u001b[38;5;28;01mdef\u001b[39;00m \u001b[38;5;21mplot_all_cameras\u001b[39m(key, frame_idx \u001b[38;5;241m=\u001b[39m \u001b[38;5;241m0\u001b[39m,n_cols\u001b[38;5;241m=\u001b[39m\u001b[38;5;241m3\u001b[39m):\n\u001b[1;32m      3\u001b[0m     \u001b[38;5;66;03m# using the variable axs for multiple Axes\u001b[39;00m\n\u001b[1;32m      4\u001b[0m     \u001b[38;5;28;01mfrom\u001b[39;00m \u001b[38;5;21;01mpose_pipeline\u001b[39;00m\u001b[38;5;21;01m.\u001b[39;00m\u001b[38;5;21;01mutils\u001b[39;00m\u001b[38;5;21;01m.\u001b[39;00m\u001b[38;5;21;01mvisualization\u001b[39;00m \u001b[38;5;28;01mimport\u001b[39;00m draw_keypoints\n\u001b[0;32m----> 5\u001b[0m     fig, axs \u001b[38;5;241m=\u001b[39m plt\u001b[38;5;241m.\u001b[39msubplots(\u001b[43mnum_cameras\u001b[49m\u001b[38;5;241m/\u001b[39m\u001b[38;5;241m/\u001b[39mn_cols,n_cols,figsize\u001b[38;5;241m=\u001b[39m(\u001b[38;5;241m15\u001b[39m,\u001b[38;5;241m15\u001b[39m))\n\u001b[1;32m      6\u001b[0m     vid_keys \u001b[38;5;241m=\u001b[39m (SingleCameraVideo \u001b[38;5;241m&\u001b[39m key)\u001b[38;5;241m.\u001b[39mfetch(\u001b[38;5;124m'\u001b[39m\u001b[38;5;124mKEY\u001b[39m\u001b[38;5;124m'\u001b[39m)\n\u001b[1;32m      7\u001b[0m     num_cameras \u001b[38;5;241m=\u001b[39m \u001b[38;5;28mlen\u001b[39m(vid_keys)\n",
      "\u001b[0;31mUnboundLocalError\u001b[0m: local variable 'num_cameras' referenced before assignment"
     ]
    }
   ],
   "source": [
    "plot_all_cameras(key, frame_idx = 0)"
   ]
  },
  {
   "cell_type": "code",
   "execution_count": null,
   "metadata": {},
   "outputs": [],
   "source": []
  }
 ],
 "metadata": {
  "kernelspec": {
   "display_name": "mmlab",
   "language": "python",
   "name": "python3"
  },
  "language_info": {
   "codemirror_mode": {
    "name": "ipython",
    "version": 3
   },
   "file_extension": ".py",
   "mimetype": "text/x-python",
   "name": "python",
   "nbconvert_exporter": "python",
   "pygments_lexer": "ipython3",
   "version": "3.9.18"
  }
 },
 "nbformat": 4,
 "nbformat_minor": 2
}
